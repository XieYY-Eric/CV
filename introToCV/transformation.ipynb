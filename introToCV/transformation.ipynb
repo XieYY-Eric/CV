{
 "cells": [
  {
   "cell_type": "code",
   "execution_count": 1,
   "id": "63e5e74d",
   "metadata": {},
   "outputs": [],
   "source": [
    "import numpy as np\n",
    "from PIL import Image\n",
    "import matplotlib.pyplot as plt\n",
    "\n",
    "#https://cseweb.ucsd.edu/classes/wi18/cse167-a/lec3.pdf"
   ]
  },
  {
   "cell_type": "markdown",
   "id": "2d3cec0a",
   "metadata": {},
   "source": [
    "## Make a 2D rotation and translation"
   ]
  },
  {
   "cell_type": "code",
   "execution_count": 11,
   "id": "d369fc0f",
   "metadata": {},
   "outputs": [],
   "source": [
    "point = np.array([1,0]).reshape((2,1)).astype(np.float32)\n"
   ]
  },
  {
   "cell_type": "code",
   "execution_count": 32,
   "id": "b1da4a74",
   "metadata": {},
   "outputs": [],
   "source": [
    "def rotate2D(point,angle):\n",
    "    \"\"\"\n",
    "    make a counterclockwise 2D rotation\n",
    "    point is 2x1 matrix\n",
    "    angle is in degree\n",
    "    \"\"\"\n",
    "    angle = angle/180 * np.pi\n",
    "    rotationMatrix = np.array([[np.cos(angle), -np.sin(angle) ],\n",
    "                              [np.sin(angle), np.cos(angle)]])\n",
    "    return rotationMatrix @ point\n",
    "\n",
    "def translation2D(point, displacement):\n",
    "    \"\"\"\n",
    "    simple 2D displacement\n",
    "    \"\"\"\n",
    "    return point + displacement"
   ]
  },
  {
   "cell_type": "code",
   "execution_count": 30,
   "id": "8018f6b6",
   "metadata": {},
   "outputs": [
    {
     "name": "stdout",
     "output_type": "stream",
     "text": [
      "before\n",
      " [[1.]\n",
      " [0.]]\n",
      " after\n",
      " [[ 1.0000000e+00]\n",
      " [-2.4492936e-16]]\n"
     ]
    }
   ],
   "source": [
    "after = rotate2D(point,360)\n",
    "print(f\"before\\n {point}\\n after\\n {after}\")"
   ]
  },
  {
   "cell_type": "code",
   "execution_count": 34,
   "id": "1b98dee2",
   "metadata": {},
   "outputs": [
    {
     "name": "stdout",
     "output_type": "stream",
     "text": [
      "before\n",
      " [[1.]\n",
      " [0.]]\n",
      " after\n",
      " [[6.]\n",
      " [0.]]\n"
     ]
    }
   ],
   "source": [
    "displacement = np.array([5,0]).reshape((2,1))\n",
    "after = translation2D(point,displacement)\n",
    "print(f\"before\\n {point}\\n after\\n {after}\")"
   ]
  },
  {
   "cell_type": "markdown",
   "id": "3def73fa",
   "metadata": {},
   "source": [
    "## 3D rotation matrix"
   ]
  },
  {
   "cell_type": "code",
   "execution_count": 36,
   "id": "2c392f58",
   "metadata": {},
   "outputs": [],
   "source": [
    "point3D = np.array([5,10,1]).reshape((3,1)).astype(np.float32)\n",
    "# X' = [R t] x"
   ]
  },
  {
   "cell_type": "code",
   "execution_count": 37,
   "id": "70795e29",
   "metadata": {},
   "outputs": [],
   "source": [
    "def makerotation(rx,ry,rz):\n",
    "    \"\"\"\n",
    "    Generate a rotation matrix Euler angles, df3    \n",
    "\n",
    "    Parameters\n",
    "    ----------\n",
    "    rx,ry,rz : floats\n",
    "        Amount to rotate around x, y and z axes in degrees\n",
    "\n",
    "    Returns\n",
    "    -------\n",
    "    R : 2D numpy.array (dtype=float)\n",
    "        Rotation matrix of shape (3,3)\n",
    "    \"\"\"\n",
    "    x = rx*np.pi / 180\n",
    "    y = ry*np.pi / 180\n",
    "    z = rz*np.pi / 180\n",
    "    c = [np.cos(degree) for degree in [x,y,z]]\n",
    "    s = [np.sin(degree) for degree in [x,y,z]]\n",
    "    \n",
    "    matrix = np.zeros((3,3))\n",
    "    \n",
    "    X = np.array([[1,   0,  0],\n",
    "                  [0,c[0],-s[0]],\n",
    "                  [0,s[0],c[0]]])\n",
    "    Y = np.array([ [c[1],   0,  -s[1]],\n",
    "                   [0,1,0],\n",
    "                   [s[1],0,c[1]]\n",
    "                 ])\n",
    "    Z = np.array([\n",
    "        [c[2],   -s[2],  0],\n",
    "        [s[2], c[2],0],\n",
    "        [0, 0, 1]\n",
    "    ])\n",
    "    matrix = Z@Y@X\n",
    "    return matrix"
   ]
  },
  {
   "cell_type": "code",
   "execution_count": 38,
   "id": "d4462380",
   "metadata": {},
   "outputs": [
    {
     "data": {
      "text/plain": [
       "array([[ 6.12323400e-17, -1.00000000e+00, -6.12323400e-17],\n",
       "       [ 0.00000000e+00,  6.12323400e-17, -1.00000000e+00],\n",
       "       [ 1.00000000e+00,  6.12323400e-17,  3.74939946e-33]])"
      ]
     },
     "execution_count": 38,
     "metadata": {},
     "output_type": "execute_result"
    }
   ],
   "source": [
    "makerotation(90,90,0)"
   ]
  },
  {
   "cell_type": "code",
   "execution_count": 40,
   "id": "461f9ccb",
   "metadata": {},
   "outputs": [],
   "source": []
  },
  {
   "cell_type": "markdown",
   "id": "c9a69bc7",
   "metadata": {},
   "source": [
    "## 3D nonuniform scale"
   ]
  },
  {
   "cell_type": "code",
   "execution_count": 54,
   "id": "b30bae25",
   "metadata": {},
   "outputs": [],
   "source": [
    "\n",
    "def nonuniformScale(sx,sy,sz,points):\n",
    "    #points should be non homo\n",
    "    def makeScaleMatrix():\n",
    "        matrix = [[sx,0,0,0],\n",
    "                 [0,sy,0,0],\n",
    "                 [0,0,sz,0],\n",
    "                 [0,0,0,1]]\n",
    "        return np.array(matrix)\n",
    "    homo_3dPoint = np.vstack([points,1])\n",
    "    return makeScaleMatrix() @ homo_3dPoint"
   ]
  },
  {
   "cell_type": "code",
   "execution_count": 58,
   "id": "57ca7840",
   "metadata": {},
   "outputs": [
    {
     "name": "stdout",
     "output_type": "stream",
     "text": [
      "(4, 4) (4, 1)\n"
     ]
    },
    {
     "data": {
      "text/plain": [
       "(array([[ 5.],\n",
       "        [10.],\n",
       "        [ 1.]], dtype=float32),\n",
       " array([[10.],\n",
       "        [20.],\n",
       "        [ 2.],\n",
       "        [ 1.]]))"
      ]
     },
     "execution_count": 58,
     "metadata": {},
     "output_type": "execute_result"
    }
   ],
   "source": [
    "point3D,nonuniformScale(2,2,2,point3D)"
   ]
  },
  {
   "cell_type": "code",
   "execution_count": 59,
   "id": "4e5519f3",
   "metadata": {},
   "outputs": [],
   "source": [
    "#Transforming object coordinates to camera coordinates\n",
    "###* Object to world coordinates: M \n",
    "###* Camera to world coordinates: C \n",
    "###• Point to transform: p \n",
    "###• Resulting transformation equation p’ = C‐1 M p  \n",
    "###<--- Cp'(camera project to world) = Mp (object project to world)\n"
   ]
  },
  {
   "cell_type": "markdown",
   "id": "c775b5e0",
   "metadata": {},
   "source": [
    "## Camera"
   ]
  },
  {
   "cell_type": "code",
   "execution_count": null,
   "id": "59af6cd8",
   "metadata": {},
   "outputs": [],
   "source": [
    "class Camera:\n",
    "    def __init__(self,f,c,R,t):\n",
    "        self.f = f\n",
    "        self.c = c\n",
    "        self.R = R\n",
    "        self.t = t\n",
    "\n",
    "    def project(self,pts3):\n",
    "        P = np.linalg.inv(self.R)@(pts3 - self.t)\n",
    "        pts2 = P[:2,:]* self.f/P[2,:]\n",
    "        pts2 += self.c\n",
    "        assert(pts2.shape[1]==pts3.shape[1])\n",
    "        assert(pts2.shape[0]==2)\n",
    "        return pts2\n",
    "\n",
    "    def update_extrinsics(self,params):\n",
    "        \"\"\"\n",
    "        Given a vector of extrinsic parameters, update the camera \n",
    "        to use the provided parameters.\n",
    "        Parameters \n",
    "        ----------\n",
    "        params : 1D numpy.array of shape (6,) (dtype=float)\n",
    "            Camera parameters we are optimizing over stored in a vector \n",
    "            params[:3] are the rotation angles, params[3:] are the translation\n",
    "        \"\"\"\n",
    "        self.R = makerotation(*params[:3])\n",
    "        self.t = np.array(params[3:]).reshape((3,1))\n",
    "\n",
    "    def __str__(self):\n",
    "        return f'Camera : \\n f={self.f} \\n c={self.c.T} \\n R={self.R} \\n t = {self.t.T}'"
   ]
  }
 ],
 "metadata": {
  "kernelspec": {
   "display_name": "Python 3 (ipykernel)",
   "language": "python",
   "name": "python3"
  },
  "language_info": {
   "codemirror_mode": {
    "name": "ipython",
    "version": 3
   },
   "file_extension": ".py",
   "mimetype": "text/x-python",
   "name": "python",
   "nbconvert_exporter": "python",
   "pygments_lexer": "ipython3",
   "version": "3.11.4"
  }
 },
 "nbformat": 4,
 "nbformat_minor": 5
}
