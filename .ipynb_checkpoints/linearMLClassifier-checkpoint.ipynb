{
 "cells": [
  {
   "cell_type": "markdown",
   "id": "13d0c021",
   "metadata": {},
   "source": [
    "# MutiLabel MNIST dataset, using linear regression"
   ]
  },
  {
   "cell_type": "code",
   "execution_count": 96,
   "id": "a47c6b4d",
   "metadata": {},
   "outputs": [],
   "source": [
    "import tensorflow as tf\n",
    "from tensorflow.keras.datasets import mnist\n",
    "import numpy as np"
   ]
  },
  {
   "cell_type": "code",
   "execution_count": 3,
   "id": "89b2dbee",
   "metadata": {},
   "outputs": [],
   "source": [
    "keras = tf.keras"
   ]
  },
  {
   "cell_type": "markdown",
   "id": "a94ce204",
   "metadata": {},
   "source": [
    "## load the mnist dataset, split into train and test"
   ]
  },
  {
   "cell_type": "code",
   "execution_count": 86,
   "id": "455c90a5",
   "metadata": {},
   "outputs": [],
   "source": [
    "(X_train, Y_train), (X_test, Y_test) = mnist.load_data()"
   ]
  },
  {
   "cell_type": "code",
   "execution_count": 87,
   "id": "7dde1727",
   "metadata": {},
   "outputs": [],
   "source": [
    "from keras.utils.np_utils import to_categorical\n",
    "from sklearn.model_selection import train_test_split\n",
    "\n",
    "X_train = X_train.astype(np.float32).reshape((60000,28*28))\n",
    "Y_train = to_categorical(Y_train)\n",
    "\n",
    "X_test = X_test.astype(np.float32).reshape((10000,28*28))\n",
    "Y_test = to_categorical(Y_test)\n",
    "\n",
    "X_train, X_valid, Y_train, Y_valid = train_test_split(X_train, Y_train, test_size=0.2, random_state=1)"
   ]
  },
  {
   "cell_type": "code",
   "execution_count": 88,
   "id": "bcaa9755",
   "metadata": {},
   "outputs": [
    {
     "name": "stdout",
     "output_type": "stream",
     "text": [
      "number of training data: 48000\n",
      "number of testing data: 10000\n",
      "image shape: (48000, 784)\n",
      "label shape: (48000, 10)\n"
     ]
    }
   ],
   "source": [
    "print(f\"number of training data: {len(X_train)}\")\n",
    "print(f\"number of testing data: {len(X_test)}\")\n",
    "print(f\"image shape: {X_train.shape}\")\n",
    "print(f\"label shape: {Y_train.shape}\")"
   ]
  },
  {
   "cell_type": "markdown",
   "id": "45e4b437",
   "metadata": {},
   "source": [
    "## create a model, a simple linear classifier"
   ]
  },
  {
   "cell_type": "code",
   "execution_count": 89,
   "id": "d0ede214",
   "metadata": {},
   "outputs": [],
   "source": [
    "input_shape = X_train[0].size\n",
    "layers = [100]"
   ]
  },
  {
   "cell_type": "code",
   "execution_count": 90,
   "id": "b2b0ad21",
   "metadata": {},
   "outputs": [],
   "source": [
    "model = keras.Sequential()\n",
    "model.add(keras.layers.Dense(100,input_shape=(28*28,)))\n",
    "model.add(keras.layers.ReLU())\n",
    "model.add(keras.layers.Dense(10))\n",
    "model.add(keras.layers.Softmax())\n",
    "model.compile(loss='categorical_crossentropy',\n",
    "              optimizer='rmsprop',\n",
    "              metrics=['accuracy'])"
   ]
  },
  {
   "cell_type": "markdown",
   "id": "3d6cba29",
   "metadata": {},
   "source": [
    "## prepare for training"
   ]
  },
  {
   "cell_type": "code",
   "execution_count": 91,
   "id": "70973a9e",
   "metadata": {
    "scrolled": false
   },
   "outputs": [
    {
     "name": "stdout",
     "output_type": "stream",
     "text": [
      "Epoch 1/10\n",
      "1500/1500 [==============================] - 4s 2ms/step - loss: 3.0847 - accuracy: 0.8550 - val_loss: 0.7473 - val_accuracy: 0.9038\n",
      "Epoch 2/10\n",
      "1500/1500 [==============================] - 3s 2ms/step - loss: 0.5888 - accuracy: 0.9180 - val_loss: 0.6660 - val_accuracy: 0.9294\n",
      "Epoch 3/10\n",
      "1500/1500 [==============================] - 3s 2ms/step - loss: 0.4702 - accuracy: 0.9366 - val_loss: 0.6825 - val_accuracy: 0.9275\n",
      "Epoch 4/10\n",
      "1500/1500 [==============================] - 3s 2ms/step - loss: 0.4110 - accuracy: 0.9441 - val_loss: 0.6154 - val_accuracy: 0.9352\n",
      "Epoch 5/10\n",
      "1500/1500 [==============================] - 3s 2ms/step - loss: 0.3600 - accuracy: 0.9498 - val_loss: 0.6151 - val_accuracy: 0.9411\n",
      "Epoch 6/10\n",
      "1500/1500 [==============================] - 3s 2ms/step - loss: 0.3467 - accuracy: 0.9562 - val_loss: 0.6348 - val_accuracy: 0.9454\n",
      "Epoch 7/10\n",
      "1500/1500 [==============================] - 3s 2ms/step - loss: 0.3049 - accuracy: 0.9604 - val_loss: 0.6604 - val_accuracy: 0.9485\n",
      "Epoch 8/10\n",
      "1500/1500 [==============================] - 3s 2ms/step - loss: 0.2965 - accuracy: 0.9620 - val_loss: 0.6898 - val_accuracy: 0.9492\n",
      "Epoch 9/10\n",
      "1500/1500 [==============================] - 3s 2ms/step - loss: 0.2697 - accuracy: 0.9650 - val_loss: 0.6423 - val_accuracy: 0.9512\n",
      "Epoch 10/10\n",
      "1500/1500 [==============================] - 3s 2ms/step - loss: 0.2575 - accuracy: 0.9690 - val_loss: 0.7686 - val_accuracy: 0.9488\n"
     ]
    }
   ],
   "source": [
    "history = model.fit(X_train, Y_train, batch_size=32, epochs=10,\n",
    "                   validation_data=(X_valid, Y_valid))\n"
   ]
  },
  {
   "cell_type": "code",
   "execution_count": 92,
   "id": "f1887236",
   "metadata": {},
   "outputs": [
    {
     "name": "stdout",
     "output_type": "stream",
     "text": [
      "313/313 [==============================] - 0s 1ms/step - loss: 0.6512 - accuracy: 0.9530\n"
     ]
    }
   ],
   "source": [
    "result = model.evaluate(X_test,Y_test)"
   ]
  },
  {
   "cell_type": "markdown",
   "id": "0dd20a1f",
   "metadata": {},
   "source": [
    "## diagram"
   ]
  },
  {
   "cell_type": "code",
   "execution_count": 93,
   "id": "5e008c3c",
   "metadata": {},
   "outputs": [
    {
     "data": {
      "image/png": "[encoded data removed]",
      "text/plain": [
       "<Figure size 432x288 with 1 Axes>"
      ]
     },
     "metadata": {
      "needs_background": "light"
     },
     "output_type": "display_data"
    }
   ],
   "source": [
    "import matplotlib.pyplot as plt\n",
    "loss = history.history['loss']\n",
    "val_loss = history.history['val_loss']\n",
    "epochs = range(1, len(loss) + 1)\n",
    "plt.plot(epochs, loss, 'bo', label='Training loss')\n",
    "plt.plot(epochs, val_loss, 'b', label='Validation loss')\n",
    "plt.title('Training and validation loss')\n",
    "plt.xlabel('Epochs')\n",
    "plt.ylabel('Loss')\n",
    "plt.legend()\n",
    "plt.show()"
   ]
  },
  {
   "cell_type": "markdown",
   "id": "dd2f2c47",
   "metadata": {},
   "source": [
    "## prediction"
   ]
  },
  {
   "cell_type": "code",
   "execution_count": 95,
   "id": "297ca3c5",
   "metadata": {},
   "outputs": [
    {
     "name": "stdout",
     "output_type": "stream",
     "text": [
      "1/1 [==============================] - 0s 21ms/step\n",
      "7\n",
      "2\n",
      "1\n"
     ]
    },
    {
     "data": {
      "image/png": "[encoded data removed]",
      "text/plain": [
       "<Figure size 432x288 with 1 Axes>"
      ]
     },
     "metadata": {
      "needs_background": "light"
     },
     "output_type": "display_data"
    },
    {
     "data": {
      "image/png": "[encoded data removed]",
      "text/plain": [
       "<Figure size 432x288 with 1 Axes>"
      ]
     },
     "metadata": {
      "needs_background": "light"
     },
     "output_type": "display_data"
    },
    {
     "data": {
      "image/png": "[encoded data removed]",
      "text/plain": [
       "<Figure size 432x288 with 1 Axes>"
      ]
     },
     "metadata": {
      "needs_background": "light"
     },
     "output_type": "display_data"
    }
   ],
   "source": [
    "predictions = model.predict(X_test[:3])\n",
    "for i in range(3):\n",
    "    plt.figure()\n",
    "    plt.imshow(X_test[i].reshape(28,28),cmap=\"gray\")\n",
    "    print(predictions[i].argmax())"
   ]
  },
  {
   "cell_type": "code",
   "execution_count": null,
   "id": "32c66598",
   "metadata": {},
   "outputs": [],
   "source": []
  }
 ],
 "metadata": {
  "kernelspec": {
   "display_name": "Python 3 (ipykernel)",
   "language": "python",
   "name": "python3"
  },
  "language_info": {
   "codemirror_mode": {
    "name": "ipython",
    "version": 3
   },
   "file_extension": ".py",
   "mimetype": "text/x-python",
   "name": "python",
   "nbconvert_exporter": "python",
   "pygments_lexer": "ipython3",
   "version": "3.9.12"
  }
 },
 "nbformat": 4,
 "nbformat_minor": 5
}
