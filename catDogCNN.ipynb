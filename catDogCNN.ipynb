{
 "cells": [
  {
   "cell_type": "code",
   "execution_count": 5,
   "id": "ce9e7cac",
   "metadata": {},
   "outputs": [],
   "source": [
    "import tensorflow as tf\n",
    "import numpy as np\n",
    "import os, shutil"
   ]
  },
  {
   "cell_type": "code",
   "execution_count": 11,
   "id": "b1044ecb",
   "metadata": {},
   "outputs": [],
   "source": [
    "original_dataset_dir = \"./datas/dogs-vs-cats\"\n",
    "base_dir = './datas/cats_and_dogs_small'\n",
    "os.mkdir(base_dir)\n",
    "train_dir = os.path.join(base_dir, 'train')\n",
    "os.mkdir(train_dir)\n",
    "validation_dir = os.path.join(base_dir, 'validation')\n",
    "os.mkdir(validation_dir)\n",
    "test_dir = os.path.join(base_dir, 'test')\n",
    "os.mkdir(test_dir)\n",
    "\n",
    "train_cats_dir = os.path.join(train_dir, 'cats')\n",
    "os.mkdir(train_cats_dir)\n",
    "train_dogs_dir = os.path.join(train_dir, 'dogs')\n",
    "os.mkdir(train_dogs_dir)\n",
    "validation_cats_dir = os.path.join(validation_dir, 'cats')\n",
    "os.mkdir(validation_cats_dir)\n",
    "validation_dogs_dir = os.path.join(validation_dir, 'dogs')\n",
    "os.mkdir(validation_dogs_dir)\n",
    "test_cats_dir = os.path.join(test_dir, 'cats')\n",
    "os.mkdir(test_cats_dir)\n",
    "test_dogs_dir = os.path.join(test_dir, 'dogs')\n",
    "os.mkdir(test_dogs_dir)\n",
    "\n",
    "fnames = ['cat.{}.jpg'.format(i) for i in range(1000)]\n",
    "for fname in fnames:\n",
    "    src = os.path.join(original_dataset_dir, fname)\n",
    "    dst = os.path.join(train_cats_dir, fname)\n",
    "    shutil.copyfile(src, dst)\n",
    "fnames = ['cat.{}.jpg'.format(i) for i in range(1000, 1500)]\n",
    "for fname in fnames:\n",
    "    src = os.path.join(original_dataset_dir, fname)\n",
    "    dst = os.path.join(validation_cats_dir, fname)\n",
    "    shutil.copyfile(src, dst)\n",
    "fnames = ['cat.{}.jpg'.format(i) for i in range(1500, 2000)]\n",
    "for fname in fnames:\n",
    "    src = os.path.join(original_dataset_dir, fname)\n",
    "    dst = os.path.join(test_cats_dir, fname)\n",
    "    shutil.copyfile(src, dst)\n",
    "    \n",
    "fnames = ['dog.{}.jpg'.format(i) for i in range(1000)]\n",
    "for fname in fnames:\n",
    "    src = os.path.join(original_dataset_dir, fname)\n",
    "    dst = os.path.join(train_dogs_dir, fname)\n",
    "    shutil.copyfile(src, dst)\n",
    "fnames = ['dog.{}.jpg'.format(i) for i in range(1000, 1500)]\n",
    "for fname in fnames:\n",
    "    src = os.path.join(original_dataset_dir, fname)\n",
    "    dst = os.path.join(validation_dogs_dir, fname)\n",
    "    shutil.copyfile(src, dst)\n",
    "fnames = ['dog.{}.jpg'.format(i) for i in range(1500, 2000)]\n",
    "for fname in fnames:\n",
    "    src = os.path.join(original_dataset_dir, fname)\n",
    "    dst = os.path.join(test_dogs_dir, fname)\n",
    "    shutil.copyfile(src, dst)"
   ]
  },
  {
   "cell_type": "code",
   "execution_count": 12,
   "id": "0ebc6ea3",
   "metadata": {},
   "outputs": [
    {
     "name": "stdout",
     "output_type": "stream",
     "text": [
      "total training cat images: 1000\n",
      "total training dog images: 1000\n",
      "total validation cat images: 500\n",
      "total validation dog images: 500\n",
      "total test cat images: 500\n",
      "total test dog images: 500\n"
     ]
    }
   ],
   "source": [
    "print('total training cat images:', len(os.listdir(train_cats_dir)))\n",
    "print('total training dog images:', len(os.listdir(train_dogs_dir)))\n",
    "print('total validation cat images:', len(os.listdir(validation_cats_dir)))\n",
    "print('total validation dog images:', len(os.listdir(validation_dogs_dir)))\n",
    "print('total test cat images:', len(os.listdir(test_cats_dir)))\n",
    "print('total test dog images:', len(os.listdir(test_dogs_dir)))"
   ]
  },
  {
   "cell_type": "markdown",
   "id": "67efd1e6",
   "metadata": {},
   "source": [
    "## build model"
   ]
  },
  {
   "cell_type": "code",
   "execution_count": 13,
   "id": "2c329c93",
   "metadata": {},
   "outputs": [],
   "source": [
    "from keras import layers\n",
    "from keras import models\n",
    "\n",
    "model = models.Sequential()\n",
    "model.add(layers.Conv2D(32, (3, 3), activation='relu',\n",
    "input_shape=(150, 150, 3)))\n",
    "model.add(layers.MaxPooling2D((2, 2)))\n",
    "model.add(layers.Conv2D(64, (3, 3), activation='relu'))\n",
    "model.add(layers.MaxPooling2D((2, 2)))\n",
    "model.add(layers.Conv2D(128, (3, 3), activation='relu'))\n",
    "model.add(layers.MaxPooling2D((2, 2)))\n",
    "model.add(layers.Conv2D(128, (3, 3), activation='relu'))\n",
    "model.add(layers.MaxPooling2D((2, 2)))\n",
    "model.add(layers.Flatten())\n",
    "model.add(layers.Dense(512, activation='relu'))\n",
    "model.add(layers.Dense(1, activation='sigmoid'))"
   ]
  },
  {
   "cell_type": "code",
   "execution_count": 14,
   "id": "0bea822d",
   "metadata": {},
   "outputs": [
    {
     "name": "stdout",
     "output_type": "stream",
     "text": [
      "Model: \"sequential\"\n",
      "_________________________________________________________________\n",
      " Layer (type)                Output Shape              Param #   \n",
      "=================================================================\n",
      " conv2d (Conv2D)             (None, 148, 148, 32)      896       \n",
      "                                                                 \n",
      " max_pooling2d (MaxPooling2D  (None, 74, 74, 32)       0         \n",
      " )                                                               \n",
      "                                                                 \n",
      " conv2d_1 (Conv2D)           (None, 72, 72, 64)        18496     \n",
      "                                                                 \n",
      " max_pooling2d_1 (MaxPooling  (None, 36, 36, 64)       0         \n",
      " 2D)                                                             \n",
      "                                                                 \n",
      " conv2d_2 (Conv2D)           (None, 34, 34, 128)       73856     \n",
      "                                                                 \n",
      " max_pooling2d_2 (MaxPooling  (None, 17, 17, 128)      0         \n",
      " 2D)                                                             \n",
      "                                                                 \n",
      " conv2d_3 (Conv2D)           (None, 15, 15, 128)       147584    \n",
      "                                                                 \n",
      " max_pooling2d_3 (MaxPooling  (None, 7, 7, 128)        0         \n",
      " 2D)                                                             \n",
      "                                                                 \n",
      " flatten (Flatten)           (None, 6272)              0         \n",
      "                                                                 \n",
      " dense (Dense)               (None, 512)               3211776   \n",
      "                                                                 \n",
      " dense_1 (Dense)             (None, 1)                 513       \n",
      "                                                                 \n",
      "=================================================================\n",
      "Total params: 3,453,121\n",
      "Trainable params: 3,453,121\n",
      "Non-trainable params: 0\n",
      "_________________________________________________________________\n"
     ]
    }
   ],
   "source": [
    "model.summary()"
   ]
  },
  {
   "cell_type": "code",
   "execution_count": 16,
   "id": "32d63d4e",
   "metadata": {},
   "outputs": [],
   "source": [
    "from keras import optimizers\n",
    "model.compile(loss='binary_crossentropy',\n",
    "    optimizer=optimizers.RMSprop(learning_rate=1e-4),\n",
    "    metrics=['acc'])"
   ]
  },
  {
   "cell_type": "markdown",
   "id": "c934f031",
   "metadata": {},
   "source": [
    "## prepare data"
   ]
  },
  {
   "cell_type": "code",
   "execution_count": 18,
   "id": "177c3a20",
   "metadata": {},
   "outputs": [
    {
     "name": "stdout",
     "output_type": "stream",
     "text": [
      "Found 2000 images belonging to 2 classes.\n",
      "Found 1000 images belonging to 2 classes.\n"
     ]
    }
   ],
   "source": [
    "from keras.preprocessing.image import ImageDataGenerator\n",
    "train_datagen = ImageDataGenerator(rescale=1./255)\n",
    "test_datagen = ImageDataGenerator(rescale=1./255)\n",
    "train_generator = train_datagen.flow_from_directory(\n",
    "    train_dir,\n",
    "    target_size=(150, 150),\n",
    "    batch_size=20,\n",
    "    class_mode='binary')\n",
    "validation_generator = test_datagen.flow_from_directory(\n",
    "    validation_dir,\n",
    "    target_size=(150, 150),\n",
    "    batch_size=20,\n",
    "    class_mode='binary')"
   ]
  },
  {
   "cell_type": "code",
   "execution_count": 19,
   "id": "46f7a7ba",
   "metadata": {},
   "outputs": [
    {
     "name": "stdout",
     "output_type": "stream",
     "text": [
      "data batch shape: (20, 150, 150, 3)\n",
      "labels batch shape: (20,)\n"
     ]
    }
   ],
   "source": [
    "for data_batch, labels_batch in train_generator:\n",
    "    print('data batch shape:', data_batch.shape)\n",
    "    print('labels batch shape:', labels_batch.shape)\n",
    "    break"
   ]
  },
  {
   "cell_type": "code",
   "execution_count": 20,
   "id": "3a96eef6",
   "metadata": {
    "scrolled": true
   },
   "outputs": [
    {
     "name": "stdout",
     "output_type": "stream",
     "text": [
      "Epoch 1/30\n"
     ]
    },
    {
     "name": "stderr",
     "output_type": "stream",
     "text": [
      "C:\\Users\\Eric\\AppData\\Local\\Temp\\ipykernel_27592\\775559235.py:1: UserWarning: `Model.fit_generator` is deprecated and will be removed in a future version. Please use `Model.fit`, which supports generators.\n",
      "  history = model.fit_generator(\n"
     ]
    },
    {
     "name": "stdout",
     "output_type": "stream",
     "text": [
      "100/100 [==============================] - 66s 650ms/step - loss: 0.6923 - acc: 0.5280 - val_loss: 0.6721 - val_acc: 0.5960\n",
      "Epoch 2/30\n",
      "100/100 [==============================] - 57s 575ms/step - loss: 0.6576 - acc: 0.6085 - val_loss: 0.6469 - val_acc: 0.6430\n",
      "Epoch 3/30\n",
      "100/100 [==============================] - 57s 572ms/step - loss: 0.6205 - acc: 0.6650 - val_loss: 0.6141 - val_acc: 0.6700\n",
      "Epoch 4/30\n",
      "100/100 [==============================] - 56s 564ms/step - loss: 0.5768 - acc: 0.6920 - val_loss: 0.6102 - val_acc: 0.6510\n",
      "Epoch 5/30\n",
      "100/100 [==============================] - 56s 560ms/step - loss: 0.5338 - acc: 0.7195 - val_loss: 0.6057 - val_acc: 0.6580\n",
      "Epoch 6/30\n",
      "100/100 [==============================] - 56s 562ms/step - loss: 0.5152 - acc: 0.7500 - val_loss: 0.5728 - val_acc: 0.6840\n",
      "Epoch 7/30\n",
      "100/100 [==============================] - 56s 562ms/step - loss: 0.4815 - acc: 0.7700 - val_loss: 0.5698 - val_acc: 0.7020\n",
      "Epoch 8/30\n",
      "100/100 [==============================] - 56s 562ms/step - loss: 0.4507 - acc: 0.7795 - val_loss: 0.6164 - val_acc: 0.6730\n",
      "Epoch 9/30\n",
      "100/100 [==============================] - 56s 562ms/step - loss: 0.4351 - acc: 0.8085 - val_loss: 0.7160 - val_acc: 0.6530\n",
      "Epoch 10/30\n",
      "100/100 [==============================] - 56s 562ms/step - loss: 0.4100 - acc: 0.8065 - val_loss: 0.5552 - val_acc: 0.7200\n",
      "Epoch 11/30\n",
      "100/100 [==============================] - 56s 563ms/step - loss: 0.3817 - acc: 0.8260 - val_loss: 0.5718 - val_acc: 0.7130\n",
      "Epoch 12/30\n",
      "100/100 [==============================] - 56s 559ms/step - loss: 0.3514 - acc: 0.8390 - val_loss: 0.5792 - val_acc: 0.7270\n",
      "Epoch 13/30\n",
      "100/100 [==============================] - 56s 562ms/step - loss: 0.3407 - acc: 0.8470 - val_loss: 0.6426 - val_acc: 0.7030\n",
      "Epoch 14/30\n",
      "100/100 [==============================] - 56s 561ms/step - loss: 0.3165 - acc: 0.8625 - val_loss: 0.5948 - val_acc: 0.7300\n",
      "Epoch 15/30\n",
      "100/100 [==============================] - 57s 566ms/step - loss: 0.2788 - acc: 0.8810 - val_loss: 0.5827 - val_acc: 0.7340\n",
      "Epoch 16/30\n",
      "100/100 [==============================] - 56s 561ms/step - loss: 0.2565 - acc: 0.9005 - val_loss: 0.6341 - val_acc: 0.7300\n",
      "Epoch 17/30\n",
      "100/100 [==============================] - 56s 562ms/step - loss: 0.2404 - acc: 0.9050 - val_loss: 0.6145 - val_acc: 0.7280\n",
      "Epoch 18/30\n",
      "100/100 [==============================] - 56s 562ms/step - loss: 0.2225 - acc: 0.9080 - val_loss: 0.7019 - val_acc: 0.7150\n",
      "Epoch 19/30\n",
      "100/100 [==============================] - 57s 566ms/step - loss: 0.1946 - acc: 0.9230 - val_loss: 0.6440 - val_acc: 0.7330\n",
      "Epoch 20/30\n",
      "100/100 [==============================] - 58s 585ms/step - loss: 0.1688 - acc: 0.9410 - val_loss: 0.6794 - val_acc: 0.7360\n",
      "Epoch 21/30\n",
      "100/100 [==============================] - 56s 563ms/step - loss: 0.1635 - acc: 0.9455 - val_loss: 0.7349 - val_acc: 0.7300\n",
      "Epoch 22/30\n",
      "100/100 [==============================] - 57s 569ms/step - loss: 0.1357 - acc: 0.9590 - val_loss: 0.7497 - val_acc: 0.7240\n",
      "Epoch 23/30\n",
      "100/100 [==============================] - 58s 585ms/step - loss: 0.1215 - acc: 0.9610 - val_loss: 0.7873 - val_acc: 0.7190\n",
      "Epoch 24/30\n",
      "100/100 [==============================] - 56s 564ms/step - loss: 0.1033 - acc: 0.9655 - val_loss: 0.8040 - val_acc: 0.7270\n",
      "Epoch 25/30\n",
      "100/100 [==============================] - 56s 565ms/step - loss: 0.0899 - acc: 0.9730 - val_loss: 0.8114 - val_acc: 0.7300\n",
      "Epoch 26/30\n",
      "100/100 [==============================] - 57s 568ms/step - loss: 0.0757 - acc: 0.9790 - val_loss: 0.9238 - val_acc: 0.7220\n",
      "Epoch 27/30\n",
      "100/100 [==============================] - 57s 567ms/step - loss: 0.0695 - acc: 0.9820 - val_loss: 0.9087 - val_acc: 0.7300\n",
      "Epoch 28/30\n",
      "100/100 [==============================] - 57s 568ms/step - loss: 0.0553 - acc: 0.9845 - val_loss: 0.9521 - val_acc: 0.7370\n",
      "Epoch 29/30\n",
      "100/100 [==============================] - 57s 567ms/step - loss: 0.0495 - acc: 0.9885 - val_loss: 0.9853 - val_acc: 0.7350\n",
      "Epoch 30/30\n",
      "100/100 [==============================] - 58s 576ms/step - loss: 0.0423 - acc: 0.9860 - val_loss: 1.0366 - val_acc: 0.7240\n"
     ]
    }
   ],
   "source": [
    "history = model.fit_generator(\n",
    "    train_generator,\n",
    "    steps_per_epoch=100,\n",
    "    epochs=30,\n",
    "    validation_data=validation_generator,\n",
    "    validation_steps=50)"
   ]
  },
  {
   "cell_type": "code",
   "execution_count": 21,
   "id": "5813469d",
   "metadata": {},
   "outputs": [],
   "source": [
    "model.save('cats_and_dogs_small_1.h5')"
   ]
  },
  {
   "cell_type": "code",
   "execution_count": 22,
   "id": "f026f405",
   "metadata": {},
   "outputs": [
    {
     "data": {
      "image/png": "[encoded data removed]",
      "text/plain": [
       "<Figure size 432x288 with 1 Axes>"
      ]
     },
     "metadata": {
      "needs_background": "light"
     },
     "output_type": "display_data"
    },
    {
     "data": {
      "image/png": "[encoded data removed]",
      "text/plain": [
       "<Figure size 432x288 with 1 Axes>"
      ]
     },
     "metadata": {
      "needs_background": "light"
     },
     "output_type": "display_data"
    }
   ],
   "source": [
    "import matplotlib.pyplot as plt\n",
    "\n",
    "acc = history.history['acc']\n",
    "val_acc = history.history['val_acc']\n",
    "loss = history.history['loss']\n",
    "val_loss = history.history['val_loss']\n",
    "\n",
    "epochs = range(1, len(acc) + 1)\n",
    "\n",
    "plt.plot(epochs, acc, 'bo', label='Training acc')\n",
    "plt.plot(epochs, val_acc, 'b', label='Validation acc')\n",
    "plt.title('Training and validation accuracy')\n",
    "plt.legend()\n",
    "\n",
    "plt.figure()\n",
    "\n",
    "plt.plot(epochs, loss, 'bo', label='Training loss')\n",
    "plt.plot(epochs, val_loss, 'b', label='Validation loss')\n",
    "plt.title('Training and validation loss')\n",
    "plt.legend()\n",
    "\n",
    "plt.show()"
   ]
  },
  {
   "cell_type": "code",
   "execution_count": 23,
   "id": "ea38a9d6",
   "metadata": {},
   "outputs": [],
   "source": [
    "#over fitting quite a bit"
   ]
  },
  {
   "cell_type": "code",
   "execution_count": null,
   "id": "c663ff14",
   "metadata": {},
   "outputs": [],
   "source": []
  }
 ],
 "metadata": {
  "kernelspec": {
   "display_name": "Python 3 (ipykernel)",
   "language": "python",
   "name": "python3"
  },
  "language_info": {
   "codemirror_mode": {
    "name": "ipython",
    "version": 3
   },
   "file_extension": ".py",
   "mimetype": "text/x-python",
   "name": "python",
   "nbconvert_exporter": "python",
   "pygments_lexer": "ipython3",
   "version": "3.9.12"
  }
 },
 "nbformat": 4,
 "nbformat_minor": 5
}
